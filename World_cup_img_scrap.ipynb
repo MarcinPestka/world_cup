{
 "cells": [
  {
   "cell_type": "code",
   "execution_count": 54,
   "metadata": {},
   "outputs": [],
   "source": [
    "from selenium import webdriver\n",
    "from selenium.webdriver.common.by import By\n",
    "import requests\n",
    "import io\n",
    "from datetime import datetime as dt\n",
    "from PIL import Image\n",
    "import time\n",
    "import os\n",
    "import re\n"
   ]
  },
  {
   "cell_type": "code",
   "execution_count": 55,
   "metadata": {},
   "outputs": [],
   "source": [
    "path = r'./chromedriver'\n",
    "driver = webdriver.Chrome(executable_path = path)\n",
    "driver.get('https://www.fifa.com/fifaplus/en/tournaments/mens/worldcup/qatar2022/teams/poland/squad')\n",
    "\n",
    "SCROLL_PAUSE_TIME = 0.5\n",
    "\n",
    "# Get scroll height\n",
    "last_height = driver.execute_script(\"return document.body.scrollHeight\")\n",
    "\n",
    "while True:\n",
    "    # Scroll down to bottom\n",
    "    driver.execute_script(\"window.scrollTo(0, document.body.scrollHeight);\")\n",
    "    # Wait to load page\n",
    "    time.sleep(SCROLL_PAUSE_TIME)\n",
    "    # Calculate new scroll height and compare with last scroll height\n",
    "    new_height = driver.execute_script(\"return document.body.scrollHeight\")\n",
    "    if new_height == last_height:\n",
    "        break\n",
    "    last_height = new_height\n",
    "\n",
    "#getting all players \n",
    "players = driver.find_elements(By.CLASS_NAME, 'player-badge-card_badgeCard__2DJ4B') \n",
    "#getting team name\n",
    "team = driver.find_elements(By.CLASS_NAME, 'title-banner-section_title__3GuYL')[0].text"
   ]
  },
  {
   "cell_type": "code",
   "execution_count": 56,
   "metadata": {},
   "outputs": [],
   "source": [
    "dir = r'/Users/marcinpestka/Desktop/python/'+team\n",
    "os.mkdir(dir)"
   ]
  },
  {
   "cell_type": "code",
   "execution_count": 57,
   "metadata": {},
   "outputs": [],
   "source": [
    "\n",
    "for player in players:\n",
    "    #creating file name out of players name\n",
    "    text = player.text\n",
    "    index = [m.start() for m in re.finditer('\\n', text)]\n",
    "    file_name = text[:index[0]] +'_'+ text[index[0]+1:index[1]]\n",
    "\n",
    "    # finding url of image\n",
    "    test = player.find_elements(By.CLASS_NAME,\"player-badge-card_playerImage__301X0\")\n",
    "    test = test[0].value_of_css_property(\"background-image\")\n",
    "    test = test[5:][:len(test[0])-3]\n",
    "\n",
    "    # getting and saving the img\n",
    "    img_content = requests.get(test).content\n",
    "    img_file = io.BytesIO(img_content)\n",
    "    image = Image.open(img_file)\n",
    "    file_pth = dir+'//'+file_name+'.png'\n",
    "\n",
    "    with open(file_pth, 'wb') as file:\n",
    "        image.save(file, 'png')\n",
    "\n",
    "# closing the driver\n",
    "driver.close()\n"
   ]
  }
 ],
 "metadata": {
  "kernelspec": {
   "display_name": "Python 3.9.12 ('base')",
   "language": "python",
   "name": "python3"
  },
  "language_info": {
   "codemirror_mode": {
    "name": "ipython",
    "version": 3
   },
   "file_extension": ".py",
   "mimetype": "text/x-python",
   "name": "python",
   "nbconvert_exporter": "python",
   "pygments_lexer": "ipython3",
   "version": "3.9.12"
  },
  "orig_nbformat": 4,
  "vscode": {
   "interpreter": {
    "hash": "6e78471b80d0d7ee38330e2043b920f8d4f1f98c0c45e981251ca0c1b90eb389"
   }
  }
 },
 "nbformat": 4,
 "nbformat_minor": 2
}
