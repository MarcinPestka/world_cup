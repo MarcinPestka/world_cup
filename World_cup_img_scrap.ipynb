{
 "cells": [
  {
   "cell_type": "code",
   "execution_count": 107,
   "metadata": {},
   "outputs": [],
   "source": [
    "from selenium import webdriver\n",
    "from selenium.webdriver.common.by import By\n",
    "import requests\n",
    "import io\n",
    "from datetime import datetime as dt\n",
    "from PIL import Image\n",
    "import time\n",
    "import os\n",
    "import re\n",
    "\n"
   ]
  },
  {
   "cell_type": "code",
   "execution_count": null,
   "metadata": {},
   "outputs": [
    {
     "ename": "TypeError",
     "evalue": "can only concatenate str (not \"WebElement\") to str",
     "output_type": "error",
     "traceback": [
      "\u001b[0;31m---------------------------------------------------------------------------\u001b[0m",
      "\u001b[0;31mTypeError\u001b[0m                                 Traceback (most recent call last)",
      "\u001b[1;32m/Users/marcinpestka/Desktop/python/world_cup_project/World_cup_img_scrap.ipynb Komórka 3\u001b[0m in \u001b[0;36m<cell line: 1>\u001b[0;34m()\u001b[0m\n\u001b[0;32m----> <a href='vscode-notebook-cell:/Users/marcinpestka/Desktop/python/world_cup_project/World_cup_img_scrap.ipynb#W5sZmlsZQ%3D%3D?line=0'>1</a>\u001b[0m \u001b[39mdir\u001b[39m \u001b[39m=\u001b[39m \u001b[39mr\u001b[39;49m\u001b[39m'\u001b[39;49m\u001b[39m/Users/marcinpestka/Desktop/python/\u001b[39;49m\u001b[39m'\u001b[39;49m\u001b[39m+\u001b[39;49mteam\n\u001b[1;32m      <a href='vscode-notebook-cell:/Users/marcinpestka/Desktop/python/world_cup_project/World_cup_img_scrap.ipynb#W5sZmlsZQ%3D%3D?line=1'>2</a>\u001b[0m os\u001b[39m.\u001b[39mmkdir(\u001b[39mdir\u001b[39m)\n",
      "\u001b[0;31mTypeError\u001b[0m: can only concatenate str (not \"WebElement\") to str"
     ]
    }
   ],
   "source": [
    "dir = r'/Users/marcinpestka/Desktop/python/'+team\n",
    "os.mkdir(dir)"
   ]
  },
  {
   "cell_type": "code",
   "execution_count": null,
   "metadata": {},
   "outputs": [],
   "source": [
    "\n"
   ]
  },
  {
   "cell_type": "code",
   "execution_count": 126,
   "metadata": {},
   "outputs": [
    {
     "ename": "IndexError",
     "evalue": "list index out of range",
     "output_type": "error",
     "traceback": [
      "\u001b[0;31m---------------------------------------------------------------------------\u001b[0m",
      "\u001b[0;31mIndexError\u001b[0m                                Traceback (most recent call last)",
      "\u001b[1;32m/Users/marcinpestka/Desktop/python/world_cup_project/World_cup_img_scrap.ipynb Komórka 4\u001b[0m in \u001b[0;36m<cell line: 8>\u001b[0;34m()\u001b[0m\n\u001b[1;32m     <a href='vscode-notebook-cell:/Users/marcinpestka/Desktop/python/world_cup_project/World_cup_img_scrap.ipynb#W6sZmlsZQ%3D%3D?line=39'>40</a>\u001b[0m text \u001b[39m=\u001b[39m player\u001b[39m.\u001b[39mtext\n\u001b[1;32m     <a href='vscode-notebook-cell:/Users/marcinpestka/Desktop/python/world_cup_project/World_cup_img_scrap.ipynb#W6sZmlsZQ%3D%3D?line=40'>41</a>\u001b[0m index \u001b[39m=\u001b[39m [m\u001b[39m.\u001b[39mstart() \u001b[39mfor\u001b[39;00m m \u001b[39min\u001b[39;00m re\u001b[39m.\u001b[39mfinditer(\u001b[39m'\u001b[39m\u001b[39m\\n\u001b[39;00m\u001b[39m'\u001b[39m, text)]\n\u001b[0;32m---> <a href='vscode-notebook-cell:/Users/marcinpestka/Desktop/python/world_cup_project/World_cup_img_scrap.ipynb#W6sZmlsZQ%3D%3D?line=41'>42</a>\u001b[0m file_name \u001b[39m=\u001b[39m text[:index[\u001b[39m0\u001b[39m]] \u001b[39m+\u001b[39m\u001b[39m'\u001b[39m\u001b[39m_\u001b[39m\u001b[39m'\u001b[39m\u001b[39m+\u001b[39m text[index[\u001b[39m0\u001b[39m]\u001b[39m+\u001b[39m\u001b[39m1\u001b[39m:index[\u001b[39m1\u001b[39;49m]]\n\u001b[1;32m     <a href='vscode-notebook-cell:/Users/marcinpestka/Desktop/python/world_cup_project/World_cup_img_scrap.ipynb#W6sZmlsZQ%3D%3D?line=43'>44</a>\u001b[0m \u001b[39m# finding url of image\u001b[39;00m\n\u001b[1;32m     <a href='vscode-notebook-cell:/Users/marcinpestka/Desktop/python/world_cup_project/World_cup_img_scrap.ipynb#W6sZmlsZQ%3D%3D?line=44'>45</a>\u001b[0m test \u001b[39m=\u001b[39m player\u001b[39m.\u001b[39mfind_elements(By\u001b[39m.\u001b[39mCLASS_NAME,\u001b[39m\"\u001b[39m\u001b[39mplayer-badge-card_playerImage__301X0\u001b[39m\u001b[39m\"\u001b[39m)\n",
      "\u001b[0;31mIndexError\u001b[0m: list index out of range"
     ]
    }
   ],
   "source": [
    "path = r'./chromedriver'\n",
    "driver = webdriver.Chrome(executable_path = path)\n",
    "driver.get('https://www.fifa.com/fifaplus/en/tournaments/mens/worldcup/qatar2022/teams')\n",
    "\n",
    "driver.implicitly_wait(2)\n",
    "teams = driver.find_elements(By.CLASS_NAME, 'flag-with-info_flagCountry__Yw8QR') \n",
    "\n",
    "for team in teams:\n",
    "    t = team.text\n",
    "    driver2 = webdriver.Chrome(executable_path = path)\n",
    "    driver2.get('https://www.fifa.com/fifaplus/en/tournaments/mens/worldcup/qatar2022/teams/'+team.text.lower()+'/squad')\n",
    "    driver2.implicitly_wait(2)\n",
    "\n",
    "    SCROLL_PAUSE_TIME = 0.5\n",
    "\n",
    "    # Get scroll height\n",
    "    last_height = driver2.execute_script(\"return document.body.scrollHeight\")\n",
    "\n",
    "    while True:\n",
    "        # Scroll down to bottom\n",
    "        driver2.execute_script(\"window.scrollTo(0, document.body.scrollHeight);\")\n",
    "        # Wait to load page\n",
    "        time.sleep(SCROLL_PAUSE_TIME)\n",
    "        # Calculate new scroll height and compare with last scroll height\n",
    "        new_height = driver2.execute_script(\"return document.body.scrollHeight\")\n",
    "        if new_height == last_height:\n",
    "            break\n",
    "        last_height = new_height\n",
    "\n",
    "    #getting all players \n",
    "    players = driver2.find_elements(By.CLASS_NAME, 'player-badge-card_badgeCard__2DJ4B') \n",
    "    #getting team name\n",
    "\n",
    "    #creating dir \n",
    "    dir = r'/Users/marcinpestka/Desktop/python/'+t\n",
    "    os.mkdir(dir)\n",
    "\n",
    "    for player in players:\n",
    "        #creating file name out of players name\n",
    "        text = player.text\n",
    "        index = [m.start() for m in re.finditer('\\n', text)]\n",
    "        file_name = text[:index[0]] +'_'+ text[index[0]+1:index[1]]\n",
    "\n",
    "        # finding url of image\n",
    "        test = player.find_elements(By.CLASS_NAME,\"player-badge-card_playerImage__301X0\")\n",
    "        test = test[0].value_of_css_property(\"background-image\")\n",
    "        test = test[5:][:len(test[0])-3]\n",
    "\n",
    "        # getting and saving the img\n",
    "        img_content = requests.get(test).content\n",
    "        img_file = io.BytesIO(img_content)\n",
    "        image = Image.open(img_file)\n",
    "        file_pth = dir+'//'+file_name+'.png'\n",
    "\n",
    "        with open(file_pth, 'wb') as file:\n",
    "            image.save(file, 'png')\n",
    "    driver2.close()\n",
    "\n",
    "# closing the driver\n",
    "driver.close()\n",
    "\n",
    "    "
   ]
  }
 ],
 "metadata": {
  "kernelspec": {
   "display_name": "Python 3.9.12 ('base')",
   "language": "python",
   "name": "python3"
  },
  "language_info": {
   "codemirror_mode": {
    "name": "ipython",
    "version": 3
   },
   "file_extension": ".py",
   "mimetype": "text/x-python",
   "name": "python",
   "nbconvert_exporter": "python",
   "pygments_lexer": "ipython3",
   "version": "3.9.12"
  },
  "orig_nbformat": 4,
  "vscode": {
   "interpreter": {
    "hash": "6e78471b80d0d7ee38330e2043b920f8d4f1f98c0c45e981251ca0c1b90eb389"
   }
  }
 },
 "nbformat": 4,
 "nbformat_minor": 2
}
