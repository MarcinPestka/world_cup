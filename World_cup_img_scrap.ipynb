{
 "cells": [
  {
   "cell_type": "code",
   "execution_count": null,
   "metadata": {},
   "outputs": [],
   "source": [
    "from selenium import webdriver\n",
    "from selenium.webdriver.common.by import By\n",
    "import requests\n",
    "import io\n",
    "from datetime import datetime as dt\n",
    "from PIL import Image\n",
    "import time\n",
    "import os\n",
    "import re"
   ]
  },
  {
   "cell_type": "code",
   "execution_count": 23,
   "metadata": {},
   "outputs": [],
   "source": [
    "path = r'./chromedriver'\n",
    "driver = webdriver.Chrome(executable_path = path)\n",
    "driver.get('https://www.fifa.com/fifaplus/en/tournaments/mens/worldcup/qatar2022/teams')\n",
    "\n",
    "driver.implicitly_wait(2)\n",
    "teams = driver.find_elements(By.CLASS_NAME, 'flag-with-info_flagCountry__Yw8QR') \n",
    "\n",
    "for team in teams:\n",
    "    t = team.text\n",
    "    driver2 = webdriver.Chrome(executable_path = path)\n",
    "    driver2.get('https://www.fifa.com/fifaplus/en/tournaments/mens/worldcup/qatar2022/teams/'+team.text.lower().replace(\" \", \"-\")+'/squad')\n",
    "    driver2.implicitly_wait(2)\n",
    "\n",
    "    SCROLL_PAUSE_TIME = 0.5\n",
    "\n",
    "    # Get scroll height\n",
    "    last_height = driver2.execute_script(\"return document.body.scrollHeight\")\n",
    "\n",
    "    while True:\n",
    "        # Scroll down to bottom\n",
    "        driver2.execute_script(\"window.scrollTo(0, document.body.scrollHeight);\")\n",
    "        # Wait to load page\n",
    "        time.sleep(SCROLL_PAUSE_TIME)\n",
    "        # Calculate new scroll height and compare with last scroll height\n",
    "        new_height = driver2.execute_script(\"return document.body.scrollHeight\")\n",
    "        if new_height == last_height:\n",
    "            break\n",
    "        last_height = new_height\n",
    "\n",
    "    #getting all players \n",
    "    players = driver2.find_elements(By.CLASS_NAME, 'player-badge-card_badgeCard__2DJ4B') \n",
    "    #getting team name\n",
    "\n",
    "    #creating dir \n",
    "    dir = r'./teams/'+t\n",
    "    if (os.path.isdir(dir) == False):\n",
    "        os.mkdir(dir)\n",
    "        for player in players:\n",
    "            #creating file name out of players name\n",
    "            text = player.text\n",
    "            index = [m.start() for m in re.finditer('\\n', text)]\n",
    "            Fname = text[:index[0]]\n",
    "            try:\n",
    "                Lname = text[index[0]+1:index[1]]\n",
    "            except:\n",
    "                Lname = ''\n",
    "            file_name = Fname +'_'+ Lname\n",
    "\n",
    "            # finding url of image\n",
    "            test = player.find_elements(By.CLASS_NAME,\"player-badge-card_playerImage__301X0\")\n",
    "            test = test[0].value_of_css_property(\"background-image\")\n",
    "            test = test[5:][:len(test[0])-3]\n",
    "\n",
    "            # getting and saving the img\n",
    "            img_content = requests.get(test).content\n",
    "            img_file = io.BytesIO(img_content)\n",
    "            image = Image.open(img_file)\n",
    "            file_pth = dir+'//'+file_name+'.png'\n",
    "\n",
    "            with open(file_pth, 'wb') as file:\n",
    "                image.save(file, 'png')\n",
    "    driver2.close()\n",
    "\n",
    "# closing the driver\n",
    "driver.close()\n",
    "\n",
    "    "
   ]
  },
  {
   "cell_type": "code",
   "execution_count": null,
   "metadata": {},
   "outputs": [],
   "source": []
  }
 ],
 "metadata": {
  "kernelspec": {
   "display_name": "Python 3.9.12 ('base')",
   "language": "python",
   "name": "python3"
  },
  "language_info": {
   "codemirror_mode": {
    "name": "ipython",
    "version": 3
   },
   "file_extension": ".py",
   "mimetype": "text/x-python",
   "name": "python",
   "nbconvert_exporter": "python",
   "pygments_lexer": "ipython3",
   "version": "3.9.12"
  },
  "orig_nbformat": 4,
  "vscode": {
   "interpreter": {
    "hash": "6e78471b80d0d7ee38330e2043b920f8d4f1f98c0c45e981251ca0c1b90eb389"
   }
  }
 },
 "nbformat": 4,
 "nbformat_minor": 2
}
